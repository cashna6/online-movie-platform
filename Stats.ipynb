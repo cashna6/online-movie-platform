{
 "cells": [
  {
   "cell_type": "code",
   "execution_count": 1,
   "metadata": {},
   "outputs": [
    {
     "name": "stderr",
     "output_type": "stream",
     "text": [
      "\n",
      "Bad key savefig.frameon in file /home/arihant/.local/lib/python3.6/site-packages/matplotlib/mpl-data/stylelib/_classic_test.mplstyle, line 421 ('savefig.frameon : True')\n",
      "You probably need to get an updated matplotlibrc file from\n",
      "https://github.com/matplotlib/matplotlib/blob/v3.3.2/matplotlibrc.template\n",
      "or from the matplotlib source distribution\n",
      "\n",
      "Bad key verbose.level in file /home/arihant/.local/lib/python3.6/site-packages/matplotlib/mpl-data/stylelib/_classic_test.mplstyle, line 472 ('verbose.level  : silent      # one of silent, helpful, debug, debug-annoying')\n",
      "You probably need to get an updated matplotlibrc file from\n",
      "https://github.com/matplotlib/matplotlib/blob/v3.3.2/matplotlibrc.template\n",
      "or from the matplotlib source distribution\n",
      "\n",
      "Bad key verbose.fileo in file /home/arihant/.local/lib/python3.6/site-packages/matplotlib/mpl-data/stylelib/_classic_test.mplstyle, line 473 ('verbose.fileo  : sys.stdout  # a log filename, sys.stdout or sys.stderr')\n",
      "You probably need to get an updated matplotlibrc file from\n",
      "https://github.com/matplotlib/matplotlib/blob/v3.3.2/matplotlibrc.template\n",
      "or from the matplotlib source distribution\n",
      "In /home/arihant/.local/lib/python3.6/site-packages/matplotlib/mpl-data/stylelib/_classic_test.mplstyle: \n",
      "The text.latex.preview rcparam was deprecated in Matplotlib 3.3 and will be removed two minor releases later.\n",
      "In /home/arihant/.local/lib/python3.6/site-packages/matplotlib/mpl-data/stylelib/_classic_test.mplstyle: \n",
      "The mathtext.fallback_to_cm rcparam was deprecated in Matplotlib 3.3 and will be removed two minor releases later.\n",
      "In /home/arihant/.local/lib/python3.6/site-packages/matplotlib/mpl-data/stylelib/_classic_test.mplstyle: Support for setting the 'mathtext.fallback_to_cm' rcParam is deprecated since 3.3 and will be removed two minor releases later; use 'mathtext.fallback : 'cm' instead.\n",
      "In /home/arihant/.local/lib/python3.6/site-packages/matplotlib/mpl-data/stylelib/_classic_test.mplstyle: \n",
      "The validate_bool_maybe_none function was deprecated in Matplotlib 3.3 and will be removed two minor releases later.\n",
      "In /home/arihant/.local/lib/python3.6/site-packages/matplotlib/mpl-data/stylelib/_classic_test.mplstyle: \n",
      "The savefig.jpeg_quality rcparam was deprecated in Matplotlib 3.3 and will be removed two minor releases later.\n",
      "In /home/arihant/.local/lib/python3.6/site-packages/matplotlib/mpl-data/stylelib/_classic_test.mplstyle: \n",
      "The keymap.all_axes rcparam was deprecated in Matplotlib 3.3 and will be removed two minor releases later.\n",
      "In /home/arihant/.local/lib/python3.6/site-packages/matplotlib/mpl-data/stylelib/_classic_test.mplstyle: \n",
      "The animation.avconv_path rcparam was deprecated in Matplotlib 3.3 and will be removed two minor releases later.\n",
      "In /home/arihant/.local/lib/python3.6/site-packages/matplotlib/mpl-data/stylelib/_classic_test.mplstyle: \n",
      "The animation.avconv_args rcparam was deprecated in Matplotlib 3.3 and will be removed two minor releases later.\n"
     ]
    }
   ],
   "source": [
    "import pandas as pd \n",
    "import matplotlib\n",
    "import matplotlib.pyplot as plt\n",
    "import numpy as np\n",
    "%matplotlib inline  "
   ]
  },
  {
   "cell_type": "code",
   "execution_count": 2,
   "metadata": {},
   "outputs": [],
   "source": [
    "df = pd.read_csv('imdb_movie_list.csv')"
   ]
  },
  {
   "cell_type": "code",
   "execution_count": 3,
   "metadata": {},
   "outputs": [
    {
     "data": {
      "text/html": [
       "<div>\n",
       "<style scoped>\n",
       "    .dataframe tbody tr th:only-of-type {\n",
       "        vertical-align: middle;\n",
       "    }\n",
       "\n",
       "    .dataframe tbody tr th {\n",
       "        vertical-align: top;\n",
       "    }\n",
       "\n",
       "    .dataframe thead th {\n",
       "        text-align: right;\n",
       "    }\n",
       "</style>\n",
       "<table border=\"1\" class=\"dataframe\">\n",
       "  <thead>\n",
       "    <tr style=\"text-align: right;\">\n",
       "      <th></th>\n",
       "      <th>tconst</th>\n",
       "      <th>titleType</th>\n",
       "      <th>year</th>\n",
       "      <th>primaryTitle</th>\n",
       "      <th>originalTitle</th>\n",
       "      <th>runtimeMinutes</th>\n",
       "      <th>genres</th>\n",
       "      <th>averageRating</th>\n",
       "      <th>numVotes</th>\n",
       "    </tr>\n",
       "  </thead>\n",
       "  <tbody>\n",
       "    <tr>\n",
       "      <th>0</th>\n",
       "      <td>tt0111161</td>\n",
       "      <td>movie</td>\n",
       "      <td>1994</td>\n",
       "      <td>The Shawshank Redemption</td>\n",
       "      <td>The Shawshank Redemption</td>\n",
       "      <td>142</td>\n",
       "      <td>Drama</td>\n",
       "      <td>9.3</td>\n",
       "      <td>2203956</td>\n",
       "    </tr>\n",
       "    <tr>\n",
       "      <th>1</th>\n",
       "      <td>tt0468569</td>\n",
       "      <td>movie</td>\n",
       "      <td>2008</td>\n",
       "      <td>The Dark Knight</td>\n",
       "      <td>The Dark Knight</td>\n",
       "      <td>152</td>\n",
       "      <td>Action,Crime,Drama</td>\n",
       "      <td>9.0</td>\n",
       "      <td>2184629</td>\n",
       "    </tr>\n",
       "    <tr>\n",
       "      <th>2</th>\n",
       "      <td>tt1375666</td>\n",
       "      <td>movie</td>\n",
       "      <td>2010</td>\n",
       "      <td>Inception</td>\n",
       "      <td>Inception</td>\n",
       "      <td>148</td>\n",
       "      <td>Action,Adventure,Sci-Fi</td>\n",
       "      <td>8.8</td>\n",
       "      <td>1933557</td>\n",
       "    </tr>\n",
       "    <tr>\n",
       "      <th>3</th>\n",
       "      <td>tt0137523</td>\n",
       "      <td>movie</td>\n",
       "      <td>1999</td>\n",
       "      <td>Fight Club</td>\n",
       "      <td>Fight Club</td>\n",
       "      <td>139</td>\n",
       "      <td>Drama</td>\n",
       "      <td>8.8</td>\n",
       "      <td>1759843</td>\n",
       "    </tr>\n",
       "    <tr>\n",
       "      <th>4</th>\n",
       "      <td>tt0110912</td>\n",
       "      <td>movie</td>\n",
       "      <td>1994</td>\n",
       "      <td>Pulp Fiction</td>\n",
       "      <td>Pulp Fiction</td>\n",
       "      <td>154</td>\n",
       "      <td>Crime,Drama</td>\n",
       "      <td>8.9</td>\n",
       "      <td>1731665</td>\n",
       "    </tr>\n",
       "  </tbody>\n",
       "</table>\n",
       "</div>"
      ],
      "text/plain": [
       "      tconst titleType  year              primaryTitle  \\\n",
       "0  tt0111161     movie  1994  The Shawshank Redemption   \n",
       "1  tt0468569     movie  2008           The Dark Knight   \n",
       "2  tt1375666     movie  2010                 Inception   \n",
       "3  tt0137523     movie  1999                Fight Club   \n",
       "4  tt0110912     movie  1994              Pulp Fiction   \n",
       "\n",
       "              originalTitle runtimeMinutes                   genres  \\\n",
       "0  The Shawshank Redemption            142                    Drama   \n",
       "1           The Dark Knight            152       Action,Crime,Drama   \n",
       "2                 Inception            148  Action,Adventure,Sci-Fi   \n",
       "3                Fight Club            139                    Drama   \n",
       "4              Pulp Fiction            154              Crime,Drama   \n",
       "\n",
       "   averageRating  numVotes  \n",
       "0            9.3   2203956  \n",
       "1            9.0   2184629  \n",
       "2            8.8   1933557  \n",
       "3            8.8   1759843  \n",
       "4            8.9   1731665  "
      ]
     },
     "execution_count": 3,
     "metadata": {},
     "output_type": "execute_result"
    }
   ],
   "source": [
    "df.head()"
   ]
  },
  {
   "cell_type": "code",
   "execution_count": 4,
   "metadata": {},
   "outputs": [],
   "source": [
    "genres = set({})"
   ]
  },
  {
   "cell_type": "code",
   "execution_count": 5,
   "metadata": {},
   "outputs": [],
   "source": [
    "for i in df.index:\n",
    "    g = (df['genres'][i]).split(\",\")\n",
    "    for j in g:\n",
    "        if j != '\\\\N':\n",
    "            genres.add(j)"
   ]
  },
  {
   "cell_type": "code",
   "execution_count": 6,
   "metadata": {},
   "outputs": [
    {
     "name": "stdout",
     "output_type": "stream",
     "text": [
      "{'Action', 'Adult', 'Mystery', 'Horror', 'Sci-Fi', 'Fantasy', 'Thriller', 'Sport', 'Game-Show', 'Music', 'Romance', 'Animation', 'Documentary', 'History', 'Biography', 'News', 'Film-Noir', 'War', 'Adventure', 'Drama', 'Western', 'Family', 'Comedy', 'Musical', 'Crime'}\n"
     ]
    }
   ],
   "source": [
    "print(genres)"
   ]
  },
  {
   "cell_type": "code",
   "execution_count": 7,
   "metadata": {},
   "outputs": [],
   "source": [
    "genres_freq = []"
   ]
  },
  {
   "cell_type": "code",
   "execution_count": 8,
   "metadata": {},
   "outputs": [],
   "source": [
    "for g in genres:\n",
    "    count = 1\n",
    "    for i in df.index:\n",
    "        if df['genres'][i] == g:\n",
    "            count += 1\n",
    "    genres_freq.append([g,count])"
   ]
  },
  {
   "cell_type": "code",
   "execution_count": 34,
   "metadata": {},
   "outputs": [
    {
     "data": {
      "text/plain": [
       "[['Fantasy', 15],\n",
       " ['Music', 4],\n",
       " ['Horror', 571],\n",
       " ['Crime', 15],\n",
       " ['Action', 104],\n",
       " ['Family', 10],\n",
       " ['Biography', 9],\n",
       " ['Game-Show', 1],\n",
       " ['Romance', 46],\n",
       " ['Mystery', 3],\n",
       " ['Sport', 1],\n",
       " ['Western', 92],\n",
       " ['Comedy', 1622],\n",
       " ['Drama', 2327],\n",
       " ['Adult', 1],\n",
       " ['War', 4],\n",
       " ['Thriller', 176],\n",
       " ['Documentary', 526],\n",
       " ['Film-Noir', 1],\n",
       " ['History', 2],\n",
       " ['Animation', 4],\n",
       " ['Musical', 13],\n",
       " ['Adventure', 9],\n",
       " ['News', 1],\n",
       " ['Sci-Fi', 32]]"
      ]
     },
     "execution_count": 34,
     "metadata": {},
     "output_type": "execute_result"
    }
   ],
   "source": [
    "genres_freq"
   ]
  },
  {
   "cell_type": "code",
   "execution_count": 39,
   "metadata": {},
   "outputs": [],
   "source": [
    "x = []\n",
    "y = []\n",
    "for i in genres_freq:\n",
    "    x.append(i[0])\n",
    "    y.append(i[1])"
   ]
  },
  {
   "cell_type": "code",
   "execution_count": 48,
   "metadata": {},
   "outputs": [
    {
     "data": {
      "image/png": "[encoded data removed]",
      "text/plain": [
       "<Figure size 432x288 with 1 Axes>"
      ]
     },
     "metadata": {},
     "output_type": "display_data"
    },
    {
     "data": {
      "text/plain": [
       "<Figure size 432x288 with 0 Axes>"
      ]
     },
     "metadata": {},
     "output_type": "display_data"
    }
   ],
   "source": [
    "plt.bar(x,y)\n",
    "plt.legend(x)\n",
    "plt.show()\n",
    "plt.savefig('foo.png')"
   ]
  },
  {
   "cell_type": "code",
   "execution_count": 15,
   "metadata": {},
   "outputs": [
    {
     "data": {
      "image/png": "[encoded data removed]",
      "text/plain": [
       "<Figure size 432x288 with 1 Axes>"
      ]
     },
     "metadata": {},
     "output_type": "display_data"
    }
   ],
   "source": [
    "nbins = [0,25,50,75,100,125,150,175,200,225,250,275,300]\n",
    "for i in df.index:\n",
    "    if df['runtimeMinutes'][i] == '\\\\N':\n",
    "        df['runtimeMinutes'][i] = 0\n",
    "df['runtimeMinutes'] = pd.to_numeric(df['runtimeMinutes'])\n",
    "df.sort_values('runtimeMinutes')\n",
    "plot = df['runtimeMinutes'].plot.hist(by=None, bins=nbins)\n",
    "plot.set(title = \"Frequency Distribution of Movies by Runtime\",\n",
    "       xlabel = \"Runtime (in minutes)\",\n",
    "       ylabel = \"Precipitation (inches)\")"
   ]
  },
  {
   "cell_type": "code",
   "execution_count": 58,
   "metadata": {},
   "outputs": [
    {
     "data": {
      "text/plain": [
       "0"
      ]
     },
     "execution_count": 58,
     "metadata": {},
     "output_type": "execute_result"
    }
   ],
   "source": []
  },
  {
   "cell_type": "code",
   "execution_count": null,
   "metadata": {},
   "outputs": [],
   "source": []
  }
 ],
 "metadata": {
  "kernelspec": {
   "display_name": "Python 3",
   "language": "python",
   "name": "python3"
  },
  "language_info": {
   "codemirror_mode": {
    "name": "ipython",
    "version": 3
   },
   "file_extension": ".py",
   "mimetype": "text/x-python",
   "name": "python",
   "nbconvert_exporter": "python",
   "pygments_lexer": "ipython3",
   "version": "3.6.8"
  }
 },
 "nbformat": 4,
 "nbformat_minor": 2
}
